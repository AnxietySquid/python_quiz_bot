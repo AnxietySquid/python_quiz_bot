{
  "nbformat": 4,
  "nbformat_minor": 0,
  "metadata": {
    "colab": {
      "provenance": [],
      "authorship_tag": "ABX9TyPgssy6h/WjVRC0XQTvGyBZ",
      "include_colab_link": true
    },
    "kernelspec": {
      "name": "python3",
      "display_name": "Python 3"
    },
    "language_info": {
      "name": "python"
    }
  },
  "cells": [
    {
      "cell_type": "markdown",
      "metadata": {
        "id": "view-in-github",
        "colab_type": "text"
      },
      "source": [
        "<a href=\"https://colab.research.google.com/github/AnxietySquid/test_tg_bot/blob/main/HW12_2_eremin.ipynb\" target=\"_parent\"><img src=\"https://colab.research.google.com/assets/colab-badge.svg\" alt=\"Open In Colab\"/></a>"
      ]
    },
    {
      "cell_type": "code",
      "execution_count": 1,
      "metadata": {
        "id": "jJ1Y8MCzf-NM"
      },
      "outputs": [],
      "source": [
        "!pip install -q aiogram\n",
        "!pip install -q nest_asyncio\n",
        "!pip install -q aiosqlite"
      ]
    },
    {
      "cell_type": "code",
      "source": [
        "import nest_asyncio\n",
        "nest_asyncio.apply()\n",
        "from aiogram.filters.command import Command\n",
        "from aiogram.utils.keyboard import InlineKeyboardBuilder, ReplyKeyboardBuilder\n",
        "import asyncio\n",
        "import logging\n",
        "from aiogram import Bot, Dispatcher, types, F\n"
      ],
      "metadata": {
        "id": "ygOcrPYbgHro"
      },
      "execution_count": 2,
      "outputs": []
    },
    {
      "cell_type": "code",
      "source": [
        "import aiosqlite\n",
        "\n",
        "DB_NAME = 'quiz_bot.db'\n",
        "async def create_table():\n",
        "    # Создаем соединение с базой данных (если она не существует, то она будет создана)\n",
        "    async with aiosqlite.connect(DB_NAME) as db:\n",
        "        # Выполняем SQL-запрос к базе данных\n",
        "        await db.execute('''CREATE TABLE IF NOT EXISTS quiz_state (user_id INTEGER PRIMARY KEY, question_index INTEGER, user_score INTEGER)''')\n",
        "        # Сохраняем изменения\n",
        "        await db.commit()\n",
        "\n",
        "# Запускаем создание таблицы базы данных\n",
        "await create_table()"
      ],
      "metadata": {
        "id": "x4vqxJOJh-SB"
      },
      "execution_count": 3,
      "outputs": []
    },
    {
      "cell_type": "code",
      "source": [
        "async def update_quiz_index(user_id, index):\n",
        "    # Создаем соединение с базой данных (если она не существует, она будет создана)\n",
        "    async with aiosqlite.connect(DB_NAME) as db:\n",
        "        # Вставляем новую запись или заменяем ее, если с данным user_id уже существует\n",
        "        await db.execute('INSERT OR REPLACE INTO quiz_state (user_id, question_index) VALUES (?, ?)', (user_id, index))\n",
        "        # Сохраняем изменения\n",
        "        await db.commit()"
      ],
      "metadata": {
        "id": "SWDw1Thoif4y"
      },
      "execution_count": 4,
      "outputs": []
    },
    {
      "cell_type": "code",
      "source": [
        "async def get_quiz_index(user_id):\n",
        "     # Подключаемся к базе данных\n",
        "     async with aiosqlite.connect(DB_NAME) as db:\n",
        "        # Получаем запись для заданного пользователя\n",
        "        async with db.execute('SELECT question_index FROM quiz_state WHERE user_id = (?)', (user_id, )) as cursor:\n",
        "            # Возвращаем результат\n",
        "            results = await cursor.fetchone()\n",
        "            if results is not None:\n",
        "                return results[0]\n",
        "            else:\n",
        "                return 0"
      ],
      "metadata": {
        "id": "HT6rcuNOjA8k"
      },
      "execution_count": 5,
      "outputs": []
    },
    {
      "cell_type": "code",
      "source": [
        "async def update_quiz_data(user_id, index, user_score):\n",
        "    # Создаем соединение с базой данных (если она не существует, она будет создана)\n",
        "    async with aiosqlite.connect(DB_NAME) as db:\n",
        "        # Вставляем новую запись или заменяем ее, если с данным user_id уже существует\n",
        "        await db.execute('INSERT OR REPLACE INTO quiz_state (user_id, question_index, user_score) VALUES (?, ?, ?)', (user_id, index, user_score))\n",
        "        # Сохраняем изменения\n",
        "        await db.commit()"
      ],
      "metadata": {
        "id": "VhMOeuH_-jVq"
      },
      "execution_count": 24,
      "outputs": []
    },
    {
      "cell_type": "code",
      "source": [
        "async def get_quiz_score(user_id):\n",
        "    async with aiosqlite.connect(DB_NAME) as db:\n",
        "        async with db.execute('SELECT user_score FROM quiz_state WHERE user_id = ?', (user_id,)) as cursor:\n",
        "            result = await cursor.fetchone()\n",
        "            if result[0] is not None:\n",
        "              return int(result[0])\n",
        "            else:\n",
        "              return 0\n"
      ],
      "metadata": {
        "id": "XGEWNapk-jVt"
      },
      "execution_count": 26,
      "outputs": []
    },
    {
      "cell_type": "code",
      "source": [
        "#@title questions\n",
        "quiz_data = [\n",
        "    {\n",
        "        'question': 'Что такое Python?',\n",
        "        'options': ['Язык программирования', 'Тип данных', 'Музыкальный инструмент', 'Змея на английском'],\n",
        "        'correct_option': 0\n",
        "    },\n",
        "    {\n",
        "        'question': 'Какой тип данных используется для хранения целых чисел?',\n",
        "        'options': ['int', 'float', 'str', 'natural'],\n",
        "        'correct_option': 0\n",
        "    },\n",
        "    {\n",
        "        'question': 'В чем разница между типами данных \"array\" и \"list\" в Python?',\n",
        "        'options': ['Массивы используются для арифметических операций, в то время как списки нет', 'Нет разницы; они одинаковы в Python', 'Списки изменяемы, в то время как массивы неизменяемы', 'Массивы могут содержать элементы только одного типа данных, в то время как списки могут содержать элементы разных типов данных'],\n",
        "        'correct_option': 3\n",
        "    },\n",
        "    {\n",
        "        'question': 'Для чего обычно используется \"matplotlib\" в Python?',\n",
        "        'options': ['Для визуализации данных', 'Для моделей машинного обучения', 'Для веб-скрейпинга', 'Для управления базами данных'],\n",
        "        'correct_option': 0\n",
        "    },\n",
        "    {\n",
        "        'question': 'Какой тип данных в Python является упорядоченным и неизменяемым?',\n",
        "        'options': ['tuple', 'list', 'set', 'dict'],\n",
        "        'correct_option': 2\n",
        "    },\n",
        "    {\n",
        "        'question': 'Какое из следующих не является допустимым именем переменной в Python?',\n",
        "        'options': ['2variable', 'my_variable', '_variable', 'variable2'],\n",
        "        'correct_option': 0\n",
        "    },\n",
        "    {\n",
        "        'question': 'Для чего используется срез (slicing) в Python?',\n",
        "        'options': ['Для извлечения частей последовательностей, таких как списки или строки', 'Для удаления элементов из списка', 'Для добавления элементов в список', 'Для сортировки элементов списка'],\n",
        "        'correct_option': 0\n",
        "    },\n",
        "    {\n",
        "        'question': 'Как сконкатенировать два списка в Python?',\n",
        "        'options': ['Используя метод append()', 'Используя оператор \"*\"', 'Используя оператор \"+\"', 'Используя метод concat()'],\n",
        "        'correct_option': 2\n",
        "    },\n",
        "    {\n",
        "        'question': 'Для чего в Python используется конструкция \"with\" при работе с файлами?',\n",
        "        'options': ['Для удаления файла', 'Для записи данных в файл', 'Для чтения данных из файла', 'Для обеспечения правильного управления ресурсами и автоматического закрытия файла'],\n",
        "        'correct_option': 3\n",
        "    },\n",
        "    {\n",
        "        'question': 'Каков результат \"set([1, 2, 3]) & set([2, 3, 4])\" в Python?',\n",
        "        'options': ['set([1, 2, 3, 4])', 'set([2, 3])', 'set([1, 4])', 'Ошибка'],\n",
        "        'correct_option': 1\n",
        "    },\n",
        "    # Добавьте другие вопросы\n",
        "]"
      ],
      "metadata": {
        "id": "HvRsffYCtvc2"
      },
      "execution_count": 8,
      "outputs": []
    },
    {
      "cell_type": "code",
      "source": [
        "# Включаем логирование, чтобы не пропустить важные сообщения\n",
        "logging.basicConfig(level=logging.INFO)\n",
        "\n",
        "# Замените \"YOUR_BOT_TOKEN\" на токен, который вы получили от BotFather\n",
        "API_TOKEN = '7967200274:AAGHujEyJ5gIqlV9SDnLnxo70HWzvPbo0_A'\n",
        "\n",
        "\n",
        "# Объект бота\n",
        "bot = Bot(token=API_TOKEN)\n",
        "# Диспетчер\n",
        "dp = Dispatcher()\n",
        "\n",
        "\n",
        "# Хэндлер на команду /start\n",
        "@dp.message(Command(\"start\"))\n",
        "async def cmd_start(message: types.Message):\n",
        "    # Создаем сборщика клавиатур типа Reply\n",
        "    builder = ReplyKeyboardBuilder()\n",
        "    # Добавляем в сборщик одну кнопку\n",
        "    builder.add(types.KeyboardButton(text=\"Начать игру\"))\n",
        "    # Прикрепляем кнопки к сообщению\n",
        "    await message.answer(\"Добро пожаловать в квиз!\", reply_markup=builder.as_markup(resize_keyboard=True))\n",
        "\n",
        "async def new_quiz(message):\n",
        "    # получаем id пользователя, отправившего сообщение\n",
        "    user_id = message.from_user.id\n",
        "    # сбрасываем значение текущего индекса вопроса квиза в 0\n",
        "    current_question_index = 0\n",
        "    user_score = 0\n",
        "    await update_quiz_data(user_id, current_question_index, user_score)\n",
        "\n",
        "    # запрашиваем новый вопрос для квиза\n",
        "    await get_question(message, user_id)\n",
        "\n",
        "def generate_options_keyboard(answer_options, right_answer):\n",
        "  # Создаем сборщика клавиатур типа Inline\n",
        "    builder = InlineKeyboardBuilder()\n",
        "\n",
        "    # В цикле создаем 4 Inline кнопки, а точнее Callback-кнопки\n",
        "    for option in answer_options:\n",
        "        builder.add(types.InlineKeyboardButton(\n",
        "            # Текст на кнопках соответствует вариантам ответов\n",
        "            text=option,\n",
        "            # Присваиваем данные для колбэк запроса.\n",
        "            # Если ответ верный сформируется колбэк-запрос с данными 'right_answer'\n",
        "            # Если ответ неверный сформируется колбэк-запрос с данными 'wrong_answer'\n",
        "            callback_data=\"right_answer\" if option == right_answer else \"wrong_answer\")\n",
        "        )\n",
        "\n",
        "    # Выводим по одной кнопке в столбик\n",
        "    builder.adjust(1)\n",
        "    return builder.as_markup()\n",
        "\n",
        "@dp.callback_query(F.data == \"right_answer\")\n",
        "async def right_answer(callback: types.CallbackQuery):\n",
        "    # редактируем текущее сообщение с целью убрать кнопки (reply_markup=None)\n",
        "    await callback.bot.edit_message_reply_markup(\n",
        "        chat_id=callback.from_user.id,\n",
        "        message_id=callback.message.message_id,\n",
        "        reply_markup=None\n",
        "    )\n",
        "\n",
        "    # Получение текущего вопроса для данного пользователя\n",
        "    current_question_index = await get_quiz_index(callback.from_user.id)\n",
        "\n",
        "    # Отправляем в чат сообщение, что ответ верный\n",
        "    await callback.message.answer(f\"Ваш ответ: {quiz_data[current_question_index]['options'][quiz_data[current_question_index]['correct_option']]}\\n Верно! 🎉\")\n",
        "\n",
        "    # Обновление номера текущего вопроса в базе данных\n",
        "    current_question_index += 1\n",
        "\n",
        "    # Добавляем очко\n",
        "    user_score = await get_quiz_score(callback.from_user.id)\n",
        "    user_score += 1\n",
        "    await update_quiz_data(callback.from_user.id, current_question_index, user_score)\n",
        "\n",
        "    # Проверяем достигнут ли конец квиза\n",
        "    if current_question_index < len(quiz_data):\n",
        "        # Следующий вопрос\n",
        "        await get_question(callback.message, callback.from_user.id)\n",
        "    else:\n",
        "        # Уведомление об окончании квиза\n",
        "        await callback.message.answer(\"Это был последний вопрос. Квиз завершен!\")\n",
        "        await callback.message.answer(f\"Ваш результат: {user_score}/{len(quiz_data)}\")\n",
        "\n",
        "@dp.callback_query(F.data == \"wrong_answer\")\n",
        "async def wrong_answer(callback: types.CallbackQuery):\n",
        "    # редактируем текущее сообщение с целью убрать кнопки (reply_markup=None)\n",
        "    await callback.bot.edit_message_reply_markup(\n",
        "        chat_id=callback.from_user.id,\n",
        "        message_id=callback.message.message_id,\n",
        "        reply_markup=None\n",
        "    )\n",
        "\n",
        "    # Получение текущего вопроса для данного пользователя\n",
        "    current_question_index = await get_quiz_index(callback.from_user.id)\n",
        "\n",
        "    correct_option = quiz_data[current_question_index]['correct_option']\n",
        "\n",
        "    # Отправляем в чат сообщение об ошибке с указанием верного ответа\n",
        "    await callback.message.answer(f\"Неправильно. Правильный ответ: {quiz_data[current_question_index]['options'][correct_option]}\")\n",
        "\n",
        "    # Обновление номера текущего вопроса в базе данных\n",
        "    current_question_index += 1\n",
        "\n",
        "    # Добавляем очко\n",
        "    user_score = await get_quiz_score(callback.from_user.id)\n",
        "    await update_quiz_data(callback.from_user.id, current_question_index, user_score)\n",
        "\n",
        "    # Проверяем достигнут ли конец квиза\n",
        "    if current_question_index < len(quiz_data):\n",
        "        # Следующий вопрос\n",
        "        await get_question(callback.message, callback.from_user.id)\n",
        "    else:\n",
        "        # Уведомление об окончании квиза\n",
        "        await callback.message.answer(\"Это был последний вопрос. Квиз завершен!\")\n",
        "        await callback.message.answer(f\"Ваш результат: {user_score}/{len(quiz_data)}\")\n",
        "\n",
        "async def get_question(message, user_id):\n",
        "\n",
        "    # Запрашиваем из базы текущий индекс для вопроса\n",
        "    current_question_index = await get_quiz_index(user_id)\n",
        "    # Получаем индекс правильного ответа для текущего вопроса\n",
        "    correct_index = quiz_data[current_question_index]['correct_option']\n",
        "    # Получаем список вариантов ответа для текущего вопроса\n",
        "    opts = quiz_data[current_question_index]['options']\n",
        "\n",
        "    # Функция генерации кнопок для текущего вопроса квиза\n",
        "    # В качестве аргументов передаем варианты ответов и значение правильного ответа (не индекс!)\n",
        "    kb = generate_options_keyboard(opts, opts[correct_index])\n",
        "    # Отправляем в чат сообщение с вопросом, прикрепляем сгенерированные кнопки\n",
        "    await message.answer(f\"{quiz_data[current_question_index]['question']}\", reply_markup=kb)\n",
        "\n",
        "# Хэндлер на команду /quiz\n",
        "@dp.message(F.text==\"Начать игру\")\n",
        "@dp.message(Command(\"quiz\"))\n",
        "async def cmd_quiz(message: types.Message):\n",
        "    # Отправляем новое сообщение без кнопок\n",
        "    await message.answer(f\"Давайте начнем квиз!\")\n",
        "    # Запускаем новый квиз\n",
        "    await new_quiz(message)\n",
        "\n",
        "\n",
        "# Запуск процесса поллинга новых апдейтов\n",
        "async def main():\n",
        "    await dp.start_polling(bot)\n",
        "\n",
        "if __name__ == \"__main__\":\n",
        "    asyncio.run(main())"
      ],
      "metadata": {
        "colab": {
          "base_uri": "https://localhost:8080/"
        },
        "id": "ffUyNZaNgK33",
        "outputId": "01606de3-480e-47d3-f085-e2118f98f02c"
      },
      "execution_count": 27,
      "outputs": [
        {
          "output_type": "stream",
          "name": "stderr",
          "text": [
            "WARNING:aiogram.dispatcher:Received SIGINT signal\n"
          ]
        }
      ]
    }
  ]
}